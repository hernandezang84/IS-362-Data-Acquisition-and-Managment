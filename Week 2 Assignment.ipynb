{
 "cells": [
  {
   "cell_type": "markdown",
   "id": "bbeff267",
   "metadata": {},
   "source": [
    "# List Comprehensions in Python\n",
    "\n",
    "List comprehensions provide a concise way to create lists based on existing lists.  In Python, you can create lists quickly\n",
    "and concisely with list comprehensions.\n",
    "\n",
    "## Syntax\n",
    "\n",
    "A list comprehension in Python works by loading the entire output list into memory.  The following is the basic syntax."
   ]
  },
  {
   "cell_type": "code",
   "execution_count": null,
   "id": "666c925c",
   "metadata": {},
   "outputs": [],
   "source": [
    "[expression for item in list]"
   ]
  },
  {
   "cell_type": "markdown",
   "id": "d003bfc7",
   "metadata": {},
   "source": [
    "## Example"
   ]
  },
  {
   "cell_type": "code",
   "execution_count": null,
   "id": "55047a63",
   "metadata": {},
   "outputs": [],
   "source": [
    "numbers = [1, 2, 3, 4, 5]\n",
    "squares = [number**2 for number in numbers]\n",
    "print(squares)"
   ]
  },
  {
   "cell_type": "markdown",
   "id": "9292cdf6",
   "metadata": {},
   "source": [
    "## Conditionals in List Comprehension\n",
    "\n",
    "List comprehensions can utilize conditional statements to modify existing list or other tuples. The following is the basic syntax."
   ]
  },
  {
   "cell_type": "code",
   "execution_count": null,
   "id": "b5c47699",
   "metadata": {},
   "outputs": [],
   "source": [
    "[expression for item in list if condition]"
   ]
  },
  {
   "cell_type": "markdown",
   "id": "769c1d33",
   "metadata": {},
   "source": [
    "## Example"
   ]
  },
  {
   "cell_type": "code",
   "execution_count": null,
   "id": "e62d98b0",
   "metadata": {},
   "outputs": [],
   "source": [
    "numbers = [1, 2, 3, 4, 5]\n",
    "even_squares = [number**2 for number in numbers if number % 2 == 0]\n",
    "print(even_squares)"
   ]
  },
  {
   "cell_type": "markdown",
   "id": "43a3d6f8",
   "metadata": {},
   "source": [
    "## Documentation\n",
    "\n",
    "https://www.w3schools.com/python/python_lists_comprehension.asp"
   ]
  }
 ],
 "metadata": {
  "kernelspec": {
   "display_name": "Python 3 (ipykernel)",
   "language": "python",
   "name": "python3"
  },
  "language_info": {
   "codemirror_mode": {
    "name": "ipython",
    "version": 3
   },
   "file_extension": ".py",
   "mimetype": "text/x-python",
   "name": "python",
   "nbconvert_exporter": "python",
   "pygments_lexer": "ipython3",
   "version": "3.11.5"
  }
 },
 "nbformat": 4,
 "nbformat_minor": 5
}
