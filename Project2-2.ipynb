{
 "cells": [
  {
   "cell_type": "markdown",
   "id": "5ad16fb0",
   "metadata": {},
   "source": [
    "# IS 362 - Data Acquisiton and Management Project 2"
   ]
  },
  {
   "cell_type": "markdown",
   "id": "f7ca5919",
   "metadata": {},
   "source": [
    "Professor Charles Pak\n",
    "\n",
    "Angela Hernandez\n",
    "\n",
    "2/28/24\n"
   ]
  },
  {
   "attachments": {
    "grades.PNG": {
     "image/png": "[encoded data removed]"
    }
   },
   "cell_type": "markdown",
   "id": "ecb51b5d",
   "metadata": {},
   "source": [
    "![grades.PNG](attachment:grades.PNG)"
   ]
  },
  {
   "cell_type": "markdown",
   "id": "8812d2b4",
   "metadata": {},
   "source": [
    "Your task is to:\n",
    "\n",
    "(1) Choose any three of the “wide” datasets identified in the Week 5 Discussion items. (You may use your own dataset; please don’t use my Sample Post dataset, since that was used in your Project 1 assignment!) For each of the three chosen datasets:\n",
    "\n",
    "    • Create a .CSV file (or optionally, a MySQL database!) that includes all of the information\n",
    "    included in the dataset. You’re encouraged to use a “wide” structure similar to how the\n",
    "    information appears in the discussion item, so that you can practice tidying and\n",
    "    transformations as described below.\n",
    "    • Read the information from your .CSV file into Python, and use pandas as needed to tidy\n",
    "    and transform your data. [Most of your grade will be based on this step!]\n",
    "    • Perform the analysis requested in the discussion item.\n",
    "    • Your code should be in an Jupyter Notebook, posted to your GitHub repository, and\n",
    "    should include narrative descriptions of your data cleanup work, analysis, and\n",
    "    conclusions.\n",
    "\n",
    "(2) Please include the URL for the Jupyter Notebook in your homework submission, for each of the three chosen datasets. You may create a single Jupyter Notebook, or three separate notebooks.\n"
   ]
  },
  {
   "cell_type": "code",
   "execution_count": 39,
   "id": "69a60cc3",
   "metadata": {},
   "outputs": [],
   "source": [
    "import pandas as pd"
   ]
  },
  {
   "cell_type": "code",
   "execution_count": 40,
   "id": "4b78d181",
   "metadata": {},
   "outputs": [],
   "source": [
    "grades_df = pd.read_csv(\"C:/Users/Jessie/Documents/IS 362/grades.csv\")"
   ]
  },
  {
   "cell_type": "code",
   "execution_count": 41,
   "id": "b5fe2bf1",
   "metadata": {},
   "outputs": [
    {
     "name": "stdout",
     "output_type": "stream",
     "text": [
      "   STUDENT ID  MATH GRADE  SCIENCE GRADE  HISTORY GRADE\n",
      "0           1          90             85             88\n",
      "1           2          75             92             80\n",
      "2           3          88             78             85\n"
     ]
    }
   ],
   "source": [
    "print(grades_df.head())"
   ]
  },
  {
   "cell_type": "code",
   "execution_count": 42,
   "id": "651328ee",
   "metadata": {},
   "outputs": [],
   "source": [
    "# Transform data to long format\n",
    "grades_long = pd.melt(grades_df, id_vars=['STUDENT ID'], var_name='SUBJECT', value_name='GRADE')"
   ]
  },
  {
   "cell_type": "code",
   "execution_count": 49,
   "id": "192c1b2d",
   "metadata": {},
   "outputs": [],
   "source": [
    "# Rename columns\n",
    "grades_long['SUBJECT'] = grades_long['SUBJECT'].str.replace(' GRADE', '')"
   ]
  },
  {
   "cell_type": "code",
   "execution_count": 44,
   "id": "49edee90",
   "metadata": {},
   "outputs": [],
   "source": [
    "# Calculate summary statistics for each subject\n",
    "summary_stats = grades_long.groupby('SUBJECT')['GRADE'].describe()"
   ]
  },
  {
   "cell_type": "code",
   "execution_count": 45,
   "id": "d20d6089",
   "metadata": {},
   "outputs": [],
   "source": [
    "summary_stats['median'] = grades_long.groupby('SUBJECT')['GRADE'].median()"
   ]
  },
  {
   "cell_type": "code",
   "execution_count": 46,
   "id": "11e46b62",
   "metadata": {},
   "outputs": [
    {
     "data": {
      "text/html": [
       "<div>\n",
       "<style scoped>\n",
       "    .dataframe tbody tr th:only-of-type {\n",
       "        vertical-align: middle;\n",
       "    }\n",
       "\n",
       "    .dataframe tbody tr th {\n",
       "        vertical-align: top;\n",
       "    }\n",
       "\n",
       "    .dataframe thead th {\n",
       "        text-align: right;\n",
       "    }\n",
       "</style>\n",
       "<table border=\"1\" class=\"dataframe\">\n",
       "  <thead>\n",
       "    <tr style=\"text-align: right;\">\n",
       "      <th></th>\n",
       "      <th>count</th>\n",
       "      <th>mean</th>\n",
       "      <th>std</th>\n",
       "      <th>min</th>\n",
       "      <th>25%</th>\n",
       "      <th>50%</th>\n",
       "      <th>75%</th>\n",
       "      <th>max</th>\n",
       "      <th>median</th>\n",
       "    </tr>\n",
       "    <tr>\n",
       "      <th>SUBJECT</th>\n",
       "      <th></th>\n",
       "      <th></th>\n",
       "      <th></th>\n",
       "      <th></th>\n",
       "      <th></th>\n",
       "      <th></th>\n",
       "      <th></th>\n",
       "      <th></th>\n",
       "      <th></th>\n",
       "    </tr>\n",
       "  </thead>\n",
       "  <tbody>\n",
       "    <tr>\n",
       "      <th>HISTORY</th>\n",
       "      <td>3.0</td>\n",
       "      <td>84.333333</td>\n",
       "      <td>4.041452</td>\n",
       "      <td>80.0</td>\n",
       "      <td>82.5</td>\n",
       "      <td>85.0</td>\n",
       "      <td>86.5</td>\n",
       "      <td>88.0</td>\n",
       "      <td>85.0</td>\n",
       "    </tr>\n",
       "    <tr>\n",
       "      <th>MATH</th>\n",
       "      <td>3.0</td>\n",
       "      <td>84.333333</td>\n",
       "      <td>8.144528</td>\n",
       "      <td>75.0</td>\n",
       "      <td>81.5</td>\n",
       "      <td>88.0</td>\n",
       "      <td>89.0</td>\n",
       "      <td>90.0</td>\n",
       "      <td>88.0</td>\n",
       "    </tr>\n",
       "    <tr>\n",
       "      <th>SCIENCE</th>\n",
       "      <td>3.0</td>\n",
       "      <td>85.000000</td>\n",
       "      <td>7.000000</td>\n",
       "      <td>78.0</td>\n",
       "      <td>81.5</td>\n",
       "      <td>85.0</td>\n",
       "      <td>88.5</td>\n",
       "      <td>92.0</td>\n",
       "      <td>85.0</td>\n",
       "    </tr>\n",
       "  </tbody>\n",
       "</table>\n",
       "</div>"
      ],
      "text/plain": [
       "         count       mean       std   min   25%   50%   75%   max  median\n",
       "SUBJECT                                                                  \n",
       "HISTORY    3.0  84.333333  4.041452  80.0  82.5  85.0  86.5  88.0    85.0\n",
       "MATH       3.0  84.333333  8.144528  75.0  81.5  88.0  89.0  90.0    88.0\n",
       "SCIENCE    3.0  85.000000  7.000000  78.0  81.5  85.0  88.5  92.0    85.0"
      ]
     },
     "execution_count": 46,
     "metadata": {},
     "output_type": "execute_result"
    }
   ],
   "source": [
    "summary_stats"
   ]
  },
  {
   "cell_type": "markdown",
   "id": "b23fd16b",
   "metadata": {},
   "source": [
    "# Conclusion"
   ]
  },
  {
   "cell_type": "markdown",
   "id": "fb976d01",
   "metadata": {},
   "source": [
    "Based on the analysis performed for this dataset, we can see that the performance across subjects is fairly consistent, with slight variations.  Math shows the greatest range of grades, indicating diverse performance among students in that subject.  Science has the highest average and maximum grades, suggesting it may be a strength for this group of students.  "
   ]
  }
 ],
 "metadata": {
  "kernelspec": {
   "display_name": "Python 3 (ipykernel)",
   "language": "python",
   "name": "python3"
  },
  "language_info": {
   "codemirror_mode": {
    "name": "ipython",
    "version": 3
   },
   "file_extension": ".py",
   "mimetype": "text/x-python",
   "name": "python",
   "nbconvert_exporter": "python",
   "pygments_lexer": "ipython3",
   "version": "3.11.5"
  }
 },
 "nbformat": 4,
 "nbformat_minor": 5
}
