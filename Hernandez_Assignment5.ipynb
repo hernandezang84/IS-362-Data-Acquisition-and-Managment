{
 "cells": [
  {
   "cell_type": "markdown",
   "id": "b92e9704",
   "metadata": {},
   "source": [
    "# IS 362 Week 5 Assignment"
   ]
  },
  {
   "cell_type": "markdown",
   "id": "3f8a9ee4",
   "metadata": {},
   "source": [
    "Professor Charles Pak\n",
    "\n",
    "Angela Hernandez\n",
    "\n",
    "2/22/24"
   ]
  },
  {
   "cell_type": "markdown",
   "id": "b0397ff6",
   "metadata": {},
   "source": [
    "Your task in this week's assignment is to answer three questions:\n",
    "\n",
    "1. What is the northernmost airport in the United States?\n",
    "2. What is the easternmost airport in the United States?\n",
    "3. On February 12th, 2013, which New York area airport had the windiest weather?\n",
    "\n"
   ]
  },
  {
   "cell_type": "markdown",
   "id": "91069025",
   "metadata": {},
   "source": [
    "To begin, I'll start by loading the necessary CSV files into pandas to understand the structure of the data, focusing on columns that indicate location for airports and weather conditions for the weather dataset.\n",
    "\n",
    "For the first two questions, I'll filter and sort the 'airports.csv' data by lat and long to identigy the northernmost and eastermost airports in the US.\n",
    "\n",
    "For the third question, I'll analyze the 'weather.csv' data to find out which New York area airport had the windiest weather on February 12th, 2013."
   ]
  },
  {
   "cell_type": "code",
   "execution_count": 2,
   "id": "511e7d2b",
   "metadata": {},
   "outputs": [],
   "source": [
    "import pandas as pd"
   ]
  },
  {
   "cell_type": "code",
   "execution_count": 3,
   "id": "5b7f2295",
   "metadata": {},
   "outputs": [],
   "source": [
    "airports_df = pd.read_csv(\"C:/Users/Jessie/Documents/IS 362/Week 5/airports.csv\")\n",
    "weather_df = pd.read_csv(\"C:/Users/Jessie/Documents/IS 362/Week 5/weather.csv\")"
   ]
  },
  {
   "cell_type": "code",
   "execution_count": 5,
   "id": "71d7d1c2",
   "metadata": {},
   "outputs": [
    {
     "name": "stdout",
     "output_type": "stream",
     "text": [
      "Northernmost Airports:\n",
      "     faa                                        name        lat         lon  \\\n",
      "417  EEN                     Dillant Hopkins Airport  72.270833   42.898333   \n",
      "230  BRW                  Wiley Post Will Rogers Mem  71.285446 -156.766003   \n",
      "110  AIN                          Wainwright Airport  70.638056 -159.994722   \n",
      "708  K03                               Wainwright As  70.613378 -159.860350   \n",
      "152  ATK  Atqasuk Edward Burnell Sr Memorial Airport  70.467300 -157.436000   \n",
      "\n",
      "     alt  tz dst              tzone  \n",
      "417  149  -5   A                NaN  \n",
      "230   44  -9   A  America/Anchorage  \n",
      "110   41  -9   A  America/Anchorage  \n",
      "708   35  -9   A  America/Anchorage  \n",
      "152   96  -9   A  America/Anchorage  \n"
     ]
    }
   ],
   "source": [
    "# Nothernmost Airports Analysis\n",
    "northernmost_airports = airports_df.sort_values(by='lat', ascending=False).head(5)\n",
    "print(\"Northernmost Airports:\")\n",
    "print(northernmost_airports)"
   ]
  },
  {
   "cell_type": "code",
   "execution_count": 6,
   "id": "1443b6af",
   "metadata": {},
   "outputs": [
    {
     "name": "stdout",
     "output_type": "stream",
     "text": [
      "\n",
      "Easternmost Airports:\n",
      "      faa              name        lat         lon  alt  tz dst  \\\n",
      "95    ADK      Adak Airport  51.878000 -176.646000   18  -9   A   \n",
      "112   AKB      Atka Airport  52.220278 -174.206389   56  -9   A   \n",
      "522   GAM   Gambell Airport  63.766800 -171.733000   27  -9   A   \n",
      "1281  SVA  Savoonga Airport  63.686400 -170.493000   53  -9   A   \n",
      "1251  SNP    St Paul Island  57.167333 -170.220444   63  -9   A   \n",
      "\n",
      "                  tzone  \n",
      "95    America/Anchorage  \n",
      "112   America/Anchorage  \n",
      "522   America/Anchorage  \n",
      "1281  America/Anchorage  \n",
      "1251  America/Anchorage  \n"
     ]
    }
   ],
   "source": [
    "# Easternmost Airports Analysis\n",
    "easternmost_airports = airports_df[airports_df['lon'] < 0].sort_values(by='lon', ascending=True).head(5)\n",
    "print(\"\\nEasternmost Airports:\")\n",
    "print(easternmost_airports)"
   ]
  },
  {
   "cell_type": "markdown",
   "id": "530a0e4f",
   "metadata": {},
   "source": [
    "# Northernmost Airports:"
   ]
  },
  {
   "cell_type": "markdown",
   "id": "f1a4c727",
   "metadata": {},
   "source": [
    "1. Dillant Hopkins Airport (EEN) at 72.270833 latitude.\n",
    "2. Wiley Post Will Rogers Mem (BRW) at 71.285446 latitude.\n",
    "3. Wainwright Airport (AIN) at 70.638056.\n",
    "4. Wainwright AS (K03) at 70.613378.\n",
    "5. Atqask Edward Burnell Sr Memorial Airport (ATK) at 70.467300 latitude."
   ]
  },
  {
   "cell_type": "markdown",
   "id": "b93a9f89",
   "metadata": {},
   "source": [
    "# Easternmost Airports"
   ]
  },
  {
   "cell_type": "markdown",
   "id": "4ac6674a",
   "metadata": {},
   "source": [
    "1. Adak Airport (ADK) at -176.646000 longitude.\n",
    "2. Atka Airport (AKB) at -174.206389 longitude.\n",
    "3. Gambell Airport (GAM) at -171.733000 longitude.\n",
    "4. Savoonga Airport (SVA) at -170.493000 longitude.\n",
    "5. St Paul Island (SNP) at -170.220444 longitude."
   ]
  },
  {
   "cell_type": "markdown",
   "id": "722d1bb6",
   "metadata": {},
   "source": [
    "Given the outlier in the northenmost airports data (Dillant Hopkins Airport with a latitude that suggests it should not be in the far north), further verification is needed.  For the easternmost airport, we consider the least negative longitude values, recognizing that due to the International Data Line, these locations are technically the easternmost points in the US.\n",
    "\n",
    "Now I'll proceed to identify the windiest weather on February 12, 2013 at a New York area airport."
   ]
  },
  {
   "cell_type": "code",
   "execution_count": 7,
   "id": "61542970",
   "metadata": {},
   "outputs": [],
   "source": [
    "# Filter weather data for February 12, 2013 for New York area airports (EWR, JFK, LGA)\n",
    "ny_weather_feb12 = weather_df[\n",
    "    (weather_df['year'] == 2013) &\n",
    "    (weather_df['month'] == 2) &\n",
    "    (weather_df['day'] == 12) &\n",
    "    (weather_df['origin'].isin(['EWR', 'JFK', 'LGA']))\n",
    "]"
   ]
  },
  {
   "cell_type": "code",
   "execution_count": 9,
   "id": "ce1cbeee",
   "metadata": {},
   "outputs": [
    {
     "name": "stdout",
     "output_type": "stream",
     "text": [
      "\n",
      "Windiest Weather on February 12, 2013 at a New York Area Airport:\n",
      "     origin  year  month  day  hour   temp   dewp  humid  wind_dir  \\\n",
      "1009    EWR  2013      2   12     3  39.02  26.96  61.63     260.0   \n",
      "\n",
      "      wind_speed  wind_gust  precip  pressure  visib             time_hour  \n",
      "1009  1048.36058        NaN     0.0    1008.3   10.0  2013-02-12T08:00:00Z  \n"
     ]
    }
   ],
   "source": [
    "windiest_weather = ny_weather_feb12.sort_values(by='wind_speed', ascending=False).head(1)\n",
    "print(\"\\nWindiest Weather on February 12, 2013 at a New York Area Airport:\")\n",
    "print(windiest_weather)"
   ]
  },
  {
   "cell_type": "markdown",
   "id": "4ac11ba9",
   "metadata": {},
   "source": [
    "# Conclusion"
   ]
  },
  {
   "cell_type": "markdown",
   "id": "d16f161d",
   "metadata": {},
   "source": [
    "Summary of findings:\n",
    "\n",
    "1. Northernmost Airport: Preliminary analysis suggests Wiley Post Will Rogers Memorial Airport (BRW) is the northernmost airport but Dillant Hopkins Airport (EEN) appeared as an outlier likely due to data entry error.\n",
    "2. Easternmost Airport: Adak Airport (ADK) appears to be the easternmost based on longitude values.\n",
    "3. Windiest Weather on February 12, 2013: Identified at EWR with a wind speed of 1048.36058 but the wind speed is an outlier, indicating that the data may need to be verified."
   ]
  }
 ],
 "metadata": {
  "kernelspec": {
   "display_name": "Python 3 (ipykernel)",
   "language": "python",
   "name": "python3"
  },
  "language_info": {
   "codemirror_mode": {
    "name": "ipython",
    "version": 3
   },
   "file_extension": ".py",
   "mimetype": "text/x-python",
   "name": "python",
   "nbconvert_exporter": "python",
   "pygments_lexer": "ipython3",
   "version": "3.11.5"
  }
 },
 "nbformat": 4,
 "nbformat_minor": 5
}
