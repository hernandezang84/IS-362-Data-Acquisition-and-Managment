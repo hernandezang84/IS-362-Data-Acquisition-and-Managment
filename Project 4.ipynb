{
 "cells": [
  {
   "cell_type": "markdown",
   "id": "16877ba9",
   "metadata": {},
   "source": [
    "# IS 362 - Data Acquisition and Management Project 4"
   ]
  },
  {
   "cell_type": "markdown",
   "id": "58534c95",
   "metadata": {},
   "source": [
    "Professor Charles Pak\n",
    "\n",
    "Angela Hernandez\n",
    "\n",
    "4/11/2024"
   ]
  },
  {
   "cell_type": "markdown",
   "id": "43607d4b",
   "metadata": {},
   "source": [
    "Your assignment is to:\n",
    "    \n",
    "    • Start with the mushroom data in the pandas DataFrame that you constructed in your “Assignment –\n",
    "    Preprocessing Data with sci-kit learn.”\n",
    "    • Use scikit-learn to determine which of the two predictor columns that you selected (odor and one\n",
    "    other column of your choice) most accurately predicts whether or not a mushroom is poisonous. There is\n",
    "    an additional challenge here—to use scikit-learn’s predictive classifiers, you’ll want to convert each of\n",
    "    your two (numeric categorical) predictor columns into a set of columns. See for one approach pandas\n",
    "    get_dummies() method.\n",
    "    • Clearly state your conclusions along with any recommendations for further analysis"
   ]
  },
  {
   "cell_type": "code",
   "execution_count": 18,
   "id": "2b547bf5",
   "metadata": {},
   "outputs": [],
   "source": [
    "import pandas as pd\n",
    "from sklearn.model_selection import train_test_split\n",
    "from sklearn.preprocessing import OneHotEncoder\n",
    "from sklearn.tree import DecisionTreeClassifier\n",
    "from sklearn.metrics import accuracy_score\n",
    "import matplotlib.pyplot as plt\n",
    "import seaborn as sns"
   ]
  },
  {
   "cell_type": "code",
   "execution_count": 19,
   "id": "2bd8bcef",
   "metadata": {},
   "outputs": [],
   "source": [
    "url = 'https://archive.ics.uci.edu/ml/machine-learning-databases/mushroom/agaricus-lepiota.data'"
   ]
  },
  {
   "cell_type": "code",
   "execution_count": 20,
   "id": "c3b96993",
   "metadata": {},
   "outputs": [],
   "source": [
    "col_names = ['class', 'cap-shape', 'cap-surface', 'cap-color', 'bruises', 'odor',\n",
    "             'gill-attachment', 'gill-spacing', 'gill-size', 'gill-color', 'stalk-shape',\n",
    "             'stalk-root', 'stalk-surface-above-ring', 'stalk-surface-below-ring',\n",
    "             'stalk-color-above-ring', 'stalk-color-below-ring', 'veil-type', 'veil-color',\n",
    "             'ring-number', 'ring-type', 'spore-print-color', 'population', 'habitat']"
   ]
  },
  {
   "cell_type": "code",
   "execution_count": 21,
   "id": "8c7712c2",
   "metadata": {},
   "outputs": [],
   "source": [
    "df = pd.read_csv(url, names=col_names, usecols=['class', 'odor', 'cap-color'])"
   ]
  },
  {
   "cell_type": "code",
   "execution_count": 22,
   "id": "7f9c2dad",
   "metadata": {},
   "outputs": [],
   "source": [
    "df.columns = ['Edible/Poisonous', 'Odor', 'Cap Color']"
   ]
  },
  {
   "cell_type": "code",
   "execution_count": 23,
   "id": "6d177052",
   "metadata": {},
   "outputs": [],
   "source": [
    "df['Edible/Poisonous'] = df['Edible/Poisonous'].map({'e': 0, 'p': 1})\n",
    "df['Odor'] = df['Odor'].astype('category').cat.codes\n",
    "df['Cap Color'] = df['Cap Color'].astype('category').cat.codes"
   ]
  },
  {
   "cell_type": "code",
   "execution_count": 24,
   "id": "4f0f9ce2",
   "metadata": {},
   "outputs": [],
   "source": [
    "df = pd.get_dummies(df, columns=['Odor', 'Cap Color'])"
   ]
  },
  {
   "cell_type": "code",
   "execution_count": 25,
   "id": "edd899c1",
   "metadata": {},
   "outputs": [],
   "source": [
    "X = df.drop('Edible/Poisonous', axis=1)\n",
    "y = df['Edible/Poisonous']"
   ]
  },
  {
   "cell_type": "code",
   "execution_count": 26,
   "id": "9211666e",
   "metadata": {},
   "outputs": [],
   "source": [
    "X_train, X_test, y_train, y_test = train_test_split(X, y, test_size=0.3, random_state=42)"
   ]
  },
  {
   "cell_type": "code",
   "execution_count": 27,
   "id": "a276d96d",
   "metadata": {},
   "outputs": [],
   "source": [
    "classifier = DecisionTreeClassifier(random_state=42)"
   ]
  },
  {
   "cell_type": "code",
   "execution_count": 28,
   "id": "bbbfa666",
   "metadata": {},
   "outputs": [
    {
     "data": {
      "text/html": [
       "<style>#sk-container-id-2 {color: black;}#sk-container-id-2 pre{padding: 0;}#sk-container-id-2 div.sk-toggleable {background-color: white;}#sk-container-id-2 label.sk-toggleable__label {cursor: pointer;display: block;width: 100%;margin-bottom: 0;padding: 0.3em;box-sizing: border-box;text-align: center;}#sk-container-id-2 label.sk-toggleable__label-arrow:before {content: \"▸\";float: left;margin-right: 0.25em;color: #696969;}#sk-container-id-2 label.sk-toggleable__label-arrow:hover:before {color: black;}#sk-container-id-2 div.sk-estimator:hover label.sk-toggleable__label-arrow:before {color: black;}#sk-container-id-2 div.sk-toggleable__content {max-height: 0;max-width: 0;overflow: hidden;text-align: left;background-color: #f0f8ff;}#sk-container-id-2 div.sk-toggleable__content pre {margin: 0.2em;color: black;border-radius: 0.25em;background-color: #f0f8ff;}#sk-container-id-2 input.sk-toggleable__control:checked~div.sk-toggleable__content {max-height: 200px;max-width: 100%;overflow: auto;}#sk-container-id-2 input.sk-toggleable__control:checked~label.sk-toggleable__label-arrow:before {content: \"▾\";}#sk-container-id-2 div.sk-estimator input.sk-toggleable__control:checked~label.sk-toggleable__label {background-color: #d4ebff;}#sk-container-id-2 div.sk-label input.sk-toggleable__control:checked~label.sk-toggleable__label {background-color: #d4ebff;}#sk-container-id-2 input.sk-hidden--visually {border: 0;clip: rect(1px 1px 1px 1px);clip: rect(1px, 1px, 1px, 1px);height: 1px;margin: -1px;overflow: hidden;padding: 0;position: absolute;width: 1px;}#sk-container-id-2 div.sk-estimator {font-family: monospace;background-color: #f0f8ff;border: 1px dotted black;border-radius: 0.25em;box-sizing: border-box;margin-bottom: 0.5em;}#sk-container-id-2 div.sk-estimator:hover {background-color: #d4ebff;}#sk-container-id-2 div.sk-parallel-item::after {content: \"\";width: 100%;border-bottom: 1px solid gray;flex-grow: 1;}#sk-container-id-2 div.sk-label:hover label.sk-toggleable__label {background-color: #d4ebff;}#sk-container-id-2 div.sk-serial::before {content: \"\";position: absolute;border-left: 1px solid gray;box-sizing: border-box;top: 0;bottom: 0;left: 50%;z-index: 0;}#sk-container-id-2 div.sk-serial {display: flex;flex-direction: column;align-items: center;background-color: white;padding-right: 0.2em;padding-left: 0.2em;position: relative;}#sk-container-id-2 div.sk-item {position: relative;z-index: 1;}#sk-container-id-2 div.sk-parallel {display: flex;align-items: stretch;justify-content: center;background-color: white;position: relative;}#sk-container-id-2 div.sk-item::before, #sk-container-id-2 div.sk-parallel-item::before {content: \"\";position: absolute;border-left: 1px solid gray;box-sizing: border-box;top: 0;bottom: 0;left: 50%;z-index: -1;}#sk-container-id-2 div.sk-parallel-item {display: flex;flex-direction: column;z-index: 1;position: relative;background-color: white;}#sk-container-id-2 div.sk-parallel-item:first-child::after {align-self: flex-end;width: 50%;}#sk-container-id-2 div.sk-parallel-item:last-child::after {align-self: flex-start;width: 50%;}#sk-container-id-2 div.sk-parallel-item:only-child::after {width: 0;}#sk-container-id-2 div.sk-dashed-wrapped {border: 1px dashed gray;margin: 0 0.4em 0.5em 0.4em;box-sizing: border-box;padding-bottom: 0.4em;background-color: white;}#sk-container-id-2 div.sk-label label {font-family: monospace;font-weight: bold;display: inline-block;line-height: 1.2em;}#sk-container-id-2 div.sk-label-container {text-align: center;}#sk-container-id-2 div.sk-container {/* jupyter's `normalize.less` sets `[hidden] { display: none; }` but bootstrap.min.css set `[hidden] { display: none !important; }` so we also need the `!important` here to be able to override the default hidden behavior on the sphinx rendered scikit-learn.org. See: https://github.com/scikit-learn/scikit-learn/issues/21755 */display: inline-block !important;position: relative;}#sk-container-id-2 div.sk-text-repr-fallback {display: none;}</style><div id=\"sk-container-id-2\" class=\"sk-top-container\"><div class=\"sk-text-repr-fallback\"><pre>DecisionTreeClassifier(random_state=42)</pre><b>In a Jupyter environment, please rerun this cell to show the HTML representation or trust the notebook. <br />On GitHub, the HTML representation is unable to render, please try loading this page with nbviewer.org.</b></div><div class=\"sk-container\" hidden><div class=\"sk-item\"><div class=\"sk-estimator sk-toggleable\"><input class=\"sk-toggleable__control sk-hidden--visually\" id=\"sk-estimator-id-2\" type=\"checkbox\" checked><label for=\"sk-estimator-id-2\" class=\"sk-toggleable__label sk-toggleable__label-arrow\">DecisionTreeClassifier</label><div class=\"sk-toggleable__content\"><pre>DecisionTreeClassifier(random_state=42)</pre></div></div></div></div></div>"
      ],
      "text/plain": [
       "DecisionTreeClassifier(random_state=42)"
      ]
     },
     "execution_count": 28,
     "metadata": {},
     "output_type": "execute_result"
    }
   ],
   "source": [
    "classifier.fit(X_train, y_train)"
   ]
  },
  {
   "cell_type": "code",
   "execution_count": 29,
   "id": "9939bbc1",
   "metadata": {},
   "outputs": [],
   "source": [
    "predictions = classifier.predict(X_test)"
   ]
  },
  {
   "cell_type": "code",
   "execution_count": 30,
   "id": "42ca7752",
   "metadata": {},
   "outputs": [],
   "source": [
    "accuracy = accuracy_score(y_test, predictions)"
   ]
  },
  {
   "cell_type": "code",
   "execution_count": 31,
   "id": "822a2f82",
   "metadata": {},
   "outputs": [
    {
     "name": "stdout",
     "output_type": "stream",
     "text": [
      "Accuracy: 0.9868744872846595\n"
     ]
    }
   ],
   "source": [
    "print(f'Accuracy: {accuracy}')"
   ]
  },
  {
   "cell_type": "code",
   "execution_count": 32,
   "id": "43db2d0c",
   "metadata": {},
   "outputs": [
    {
     "name": "stdout",
     "output_type": "stream",
     "text": [
      "        Feature  Importance\n",
      "15  Cap Color_5    0.655090\n",
      "13  Cap Color_3    0.174040\n",
      "10  Cap Color_0    0.153070\n",
      "9        Odor_9    0.011735\n",
      "5        Odor_5    0.002612\n",
      "0        Odor_0    0.002421\n",
      "8        Odor_8    0.000980\n",
      "4        Odor_4    0.000052\n",
      "6        Odor_6    0.000000\n",
      "7        Odor_7    0.000000\n",
      "1        Odor_1    0.000000\n",
      "11  Cap Color_1    0.000000\n",
      "12  Cap Color_2    0.000000\n",
      "3        Odor_3    0.000000\n",
      "14  Cap Color_4    0.000000\n",
      "2        Odor_2    0.000000\n",
      "16  Cap Color_6    0.000000\n",
      "17  Cap Color_7    0.000000\n",
      "18  Cap Color_8    0.000000\n"
     ]
    }
   ],
   "source": [
    "importances = classifier.feature_importances_\n",
    "feature_names = X.columns\n",
    "feature_importances = pd.DataFrame({'Feature': feature_names, 'Importance': importances})\n",
    "feature_importances.sort_values(by='Importance', ascending=False, inplace=True)\n",
    "print(feature_importances)"
   ]
  },
  {
   "cell_type": "code",
   "execution_count": 33,
   "id": "d9c4c9a1",
   "metadata": {},
   "outputs": [
    {
     "data": {
      "image/png": "[encoded data removed]",
      "text/plain": [
       "<Figure size 640x480 with 1 Axes>"
      ]
     },
     "metadata": {},
     "output_type": "display_data"
    }
   ],
   "source": [
    "feature_importances.head(10).plot(kind='barh', x='Feature', y='Importance')\n",
    "plt.show()"
   ]
  },
  {
   "cell_type": "markdown",
   "id": "3ac0d601",
   "metadata": {},
   "source": [
    "# Analysis and Conclusions"
   ]
  },
  {
   "cell_type": "markdown",
   "id": "ee669d11",
   "metadata": {},
   "source": [
    "Analysis of the Feature Importances:\n",
    "\n",
    "   1. Odor Importance: The 'Odor' features, particularly Odor_5, Odor_3, and Odor_0, have significant importance scores. This suggests that odor is a strong predictor of mushroom edibility. Since these features are one-hot encoded, each one corresponds to a specific type of odor.\n",
    "\n",
    "   2. Cap Color Importance: The Cap Color_5, Cap Color_3, and Cap Color_0 also show some importance, although to a lesser extent than the odor features. This indicates that cap color provides some predictive power but is less critical than odor.\n",
    "\n",
    "   3. Zero Importance Features: Many features have an importance of zero, indicating that they do not contribute to the model's predictions. In a more sophisticated model or analysis, these features could potentially be excluded to simplify the model without losing predictive power.\n",
    "\n",
    "Conclusions:\n",
    "\n",
    "   1. Odor is a key predictor: The analysis strongly suggests that odor is a crucial characteristic when determining whether a mushroom is poisonous or edible. Particular odors are likely to be associated with one outcome or the other.\n",
    "   2. Cap color adds value: While not as significant as odor, cap color does have a role in predictions and should not be disregarded without further analysis.\n",
    "   3. Potential for model simplification: The presence of features with zero importance implies that the model could be simplified, which might make it more interpretable.\n",
    "   4. Consideration for further analysis: Features with zero importance in this model could be important in other contexts or models, especially if there is an interaction effect with other features that was not captured by this model."
   ]
  }
 ],
 "metadata": {
  "kernelspec": {
   "display_name": "Python 3 (ipykernel)",
   "language": "python",
   "name": "python3"
  },
  "language_info": {
   "codemirror_mode": {
    "name": "ipython",
    "version": 3
   },
   "file_extension": ".py",
   "mimetype": "text/x-python",
   "name": "python",
   "nbconvert_exporter": "python",
   "pygments_lexer": "ipython3",
   "version": "3.11.5"
  }
 },
 "nbformat": 4,
 "nbformat_minor": 5
}
