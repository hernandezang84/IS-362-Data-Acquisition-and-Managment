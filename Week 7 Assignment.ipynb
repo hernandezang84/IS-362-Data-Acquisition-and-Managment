{
 "cells": [
  {
   "cell_type": "markdown",
   "id": "2c1b10e2",
   "metadata": {},
   "source": [
    "#  IS 362 - Data Acquisiton and Management "
   ]
  },
  {
   "cell_type": "markdown",
   "id": "29715108",
   "metadata": {},
   "source": [
    "Professor Charles Pak\n",
    "\n",
    "Angela Hernandez\n",
    "\n",
    "Assignment 7\n",
    "\n",
    "3/7/24"
   ]
  },
  {
   "attachments": {
    "movies.PNG": {
     "image/png": "[encoded data removed]"
    }
   },
   "cell_type": "markdown",
   "id": "4982e8df",
   "metadata": {},
   "source": [
    "![movies.PNG](attachment:movies.PNG)"
   ]
  },
  {
   "cell_type": "markdown",
   "id": "e7aa0e55",
   "metadata": {},
   "source": [
    "Choose six recent popular movies. Ask at least five people that you know (friends, family, classmates,\n",
    "imaginary friends) to rate each of these movies that they have seen on a scale of 1 to 5. There should be\n",
    "at least one movie that not everyone has seen!\n",
    "\n",
    "Take the results (observations) and store them somewhere (like a SQL database, or a .CSV file). Load the\n",
    "information into a pandas dataframe. Your solution should include Python and pandas code that\n",
    "accomplishes the following:\n",
    "\n",
    "    1. Load the ratings by user information that you collected into a pandas dataframe.\n",
    "    2. Show the average ratings for each user and each movie.\n",
    "    3. Create a new pandas dataframe, with normalized ratings for each user. Again, show the average\n",
    "    ratings for each user and each movie.\n",
    "    4. Provide a text-based conclusion: explain what might be advantages and disadvantages of using\n",
    "    normalized ratings instead of the actual ratings.\n",
    "    5. [Extra credit] Create another new pandas dataframe, with standardized ratings for each user.\n",
    "    Once again, show the average ratings for each user and each movie."
   ]
  },
  {
   "cell_type": "code",
   "execution_count": 51,
   "id": "b215c782",
   "metadata": {},
   "outputs": [],
   "source": [
    "import pandas as pd\n",
    "from sklearn.preprocessing import StandardScaler"
   ]
  },
  {
   "cell_type": "code",
   "execution_count": 52,
   "id": "9d1c79be",
   "metadata": {},
   "outputs": [],
   "source": [
    "movies_df = pd.read_csv(\"C:/Users/Jessie/Documents/IS 362/movies.csv\")"
   ]
  },
  {
   "cell_type": "code",
   "execution_count": 53,
   "id": "78bb7e05",
   "metadata": {},
   "outputs": [
    {
     "name": "stdout",
     "output_type": "stream",
     "text": [
      "  Unnamed: 0  Dune Part Two  Madame Web  Poor Things  Argylle  \\\n",
      "0   Cristian              4           2          NaN        3   \n",
      "1    Jeffrey              3           3          NaN        4   \n",
      "2      Edgar              4           2          2.0        2   \n",
      "3      Katie              4           2          NaN        3   \n",
      "4       Andy              5           1          3.0        2   \n",
      "\n",
      "   The Zone of Interest  All of Us Strangers  \n",
      "0                   NaN                  NaN  \n",
      "1                   NaN                  NaN  \n",
      "2                   3.0                  NaN  \n",
      "3                   2.0                  NaN  \n",
      "4                   3.0                  NaN  \n"
     ]
    }
   ],
   "source": [
    "print(movies_df.head())"
   ]
  },
  {
   "cell_type": "code",
   "execution_count": 54,
   "id": "390f82e4",
   "metadata": {},
   "outputs": [],
   "source": [
    "def normalize(x):\n",
    "    return (x - x.min()) / (x.max() - x.min())"
   ]
  },
  {
   "cell_type": "code",
   "execution_count": 55,
   "id": "800521d9",
   "metadata": {},
   "outputs": [],
   "source": [
    "user_avg_ratings = movies_df.set_index('Unnamed: 0').mean(axis=1)"
   ]
  },
  {
   "cell_type": "code",
   "execution_count": 56,
   "id": "ad84c992",
   "metadata": {},
   "outputs": [],
   "source": [
    "movie_avg_ratings = movies_df.set_index('Unnamed: 0').mean()"
   ]
  },
  {
   "cell_type": "code",
   "execution_count": 57,
   "id": "79e3b33d",
   "metadata": {},
   "outputs": [],
   "source": [
    "normalized_data = movies_df.set_index('Unnamed: 0').apply(normalize, axis=1).reset_index()"
   ]
  },
  {
   "cell_type": "code",
   "execution_count": 58,
   "id": "e855a7c2",
   "metadata": {},
   "outputs": [],
   "source": [
    "normalized_user_avg_ratings = normalized_data.set_index('Unnamed: 0').mean(axis=1)"
   ]
  },
  {
   "cell_type": "code",
   "execution_count": 59,
   "id": "e26a57c8",
   "metadata": {},
   "outputs": [],
   "source": [
    "normalized_movie_avg_ratings = normalized_data.set_index('Unnamed: 0').mean()"
   ]
  },
  {
   "cell_type": "code",
   "execution_count": 60,
   "id": "643b1e3c",
   "metadata": {},
   "outputs": [
    {
     "name": "stdout",
     "output_type": "stream",
     "text": [
      "Average ratings for each user:\n",
      "Unnamed: 0\n",
      "Cristian    3.000000\n",
      "Jeffrey     3.333333\n",
      "Edgar       2.600000\n",
      "Katie       2.750000\n",
      "Andy        2.800000\n",
      "dtype: float64\n"
     ]
    }
   ],
   "source": [
    "print(\"Average ratings for each user:\")\n",
    "print(user_avg_ratings)"
   ]
  },
  {
   "cell_type": "code",
   "execution_count": 61,
   "id": "528e1bdb",
   "metadata": {},
   "outputs": [
    {
     "name": "stdout",
     "output_type": "stream",
     "text": [
      "\n",
      "Average ratings for each movie:\n",
      "Dune Part Two           4.000000\n",
      "Madame Web              2.000000\n",
      "Poor Things             2.500000\n",
      "Argylle                 2.800000\n",
      "The Zone of Interest    2.666667\n",
      "All of Us Strangers          NaN\n",
      "dtype: float64\n"
     ]
    }
   ],
   "source": [
    "print(\"\\nAverage ratings for each movie:\")\n",
    "print(movie_avg_ratings)"
   ]
  },
  {
   "cell_type": "code",
   "execution_count": 62,
   "id": "a72a73f1",
   "metadata": {},
   "outputs": [
    {
     "name": "stdout",
     "output_type": "stream",
     "text": [
      "\n",
      "Normalized average ratings for each user:\n",
      "Unnamed: 0\n",
      "Cristian    0.500000\n",
      "Jeffrey     0.333333\n",
      "Edgar       0.300000\n",
      "Katie       0.375000\n",
      "Andy        0.450000\n",
      "dtype: float64\n"
     ]
    }
   ],
   "source": [
    "print(\"\\nNormalized average ratings for each user:\")\n",
    "print(normalized_user_avg_ratings)"
   ]
  },
  {
   "cell_type": "code",
   "execution_count": 63,
   "id": "1f29c0d3",
   "metadata": {},
   "outputs": [
    {
     "name": "stdout",
     "output_type": "stream",
     "text": [
      "\n",
      "Normalized average ratings for each movie:\n",
      "Dune Part Two           0.800000\n",
      "Madame Web              0.000000\n",
      "Poor Things             0.250000\n",
      "Argylle                 0.450000\n",
      "The Zone of Interest    0.333333\n",
      "All of Us Strangers          NaN\n",
      "dtype: float64\n"
     ]
    }
   ],
   "source": [
    "print(\"\\nNormalized average ratings for each movie:\")\n",
    "print(normalized_movie_avg_ratings)"
   ]
  },
  {
   "cell_type": "markdown",
   "id": "a30cad91",
   "metadata": {},
   "source": [
    "# Advantages"
   ]
  },
  {
   "cell_type": "markdown",
   "id": "047670e9",
   "metadata": {},
   "source": [
    "1. Fair Comparison: Normalization allows comparing ratings from different users on a similar scale, which is particularly useful when users have different ratings scales or tendencies.\n",
    "2. Bias Mitigation: It helps in mitigating the bias that might arise due to different user rating behaviors."
   ]
  },
  {
   "cell_type": "markdown",
   "id": "3ef2621d",
   "metadata": {},
   "source": [
    "# Disadvantages"
   ]
  },
  {
   "cell_type": "markdown",
   "id": "547af9ef",
   "metadata": {},
   "source": [
    "1. Information Loss: Normalizing the data might lead to a loss of information, especially regarding how different the users' opinions are from one another.\n",
    "2. Context Ignorance: Normalized ratings might not fully capture the context or the intensity of the users' preferences."
   ]
  },
  {
   "cell_type": "markdown",
   "id": "efc3d400",
   "metadata": {},
   "source": [
    "# Extra Credit"
   ]
  },
  {
   "cell_type": "code",
   "execution_count": 64,
   "id": "6a767b6e",
   "metadata": {},
   "outputs": [],
   "source": [
    "scaler = StandardScaler()"
   ]
  },
  {
   "cell_type": "code",
   "execution_count": 65,
   "id": "75e276e0",
   "metadata": {},
   "outputs": [],
   "source": [
    "data_to_standardize = movies_df.set_index('Unnamed: 0').fillna(0)"
   ]
  },
  {
   "cell_type": "code",
   "execution_count": 66,
   "id": "27bccb52",
   "metadata": {},
   "outputs": [],
   "source": [
    "standardized_data = scaler.fit_transform(data_to_standardize)"
   ]
  },
  {
   "cell_type": "code",
   "execution_count": 68,
   "id": "0cf2ee8c",
   "metadata": {},
   "outputs": [],
   "source": [
    "standardized_data_df = pd.DataFrame(standardized_data, index=movies_df['Unnamed: 0'], columns=data_to_standardize.columns)"
   ]
  },
  {
   "cell_type": "code",
   "execution_count": 69,
   "id": "cffd93c7",
   "metadata": {},
   "outputs": [],
   "source": [
    "standardized_user_avg_ratings = standardized_data_df.mean(axis=1)"
   ]
  },
  {
   "cell_type": "code",
   "execution_count": 70,
   "id": "b832dad4",
   "metadata": {},
   "outputs": [],
   "source": [
    "standardized_movie_avg_ratings = standardized_data_df.mean(axis=1)"
   ]
  },
  {
   "cell_type": "code",
   "execution_count": 71,
   "id": "b9217efd",
   "metadata": {},
   "outputs": [
    {
     "name": "stdout",
     "output_type": "stream",
     "text": [
      "Standardized average ratings for each user:\n",
      "Unnamed: 0\n",
      "Cristian   -0.283807\n",
      "Jeffrey    -0.061090\n",
      "Edgar       0.125603\n",
      "Katie      -0.038071\n",
      "Andy        0.257365\n",
      "dtype: float64\n"
     ]
    }
   ],
   "source": [
    "print(\"Standardized average ratings for each user:\")\n",
    "print(standardized_user_avg_ratings)"
   ]
  },
  {
   "cell_type": "code",
   "execution_count": 72,
   "id": "847bbe45",
   "metadata": {},
   "outputs": [
    {
     "name": "stdout",
     "output_type": "stream",
     "text": [
      "\n",
      "Standardized average ratings for each movie:\n",
      "Unnamed: 0\n",
      "Cristian   -0.283807\n",
      "Jeffrey    -0.061090\n",
      "Edgar       0.125603\n",
      "Katie      -0.038071\n",
      "Andy        0.257365\n",
      "dtype: float64\n"
     ]
    }
   ],
   "source": [
    "print(\"\\nStandardized average ratings for each movie:\")\n",
    "print(standardized_movie_avg_ratings)"
   ]
  }
 ],
 "metadata": {
  "kernelspec": {
   "display_name": "Python 3 (ipykernel)",
   "language": "python",
   "name": "python3"
  },
  "language_info": {
   "codemirror_mode": {
    "name": "ipython",
    "version": 3
   },
   "file_extension": ".py",
   "mimetype": "text/x-python",
   "name": "python",
   "nbconvert_exporter": "python",
   "pygments_lexer": "ipython3",
   "version": "3.11.5"
  }
 },
 "nbformat": 4,
 "nbformat_minor": 5
}
