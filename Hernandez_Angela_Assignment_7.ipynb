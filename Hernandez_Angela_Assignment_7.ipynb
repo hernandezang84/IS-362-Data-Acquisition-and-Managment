{
 "cells": [
  {
   "cell_type": "markdown",
   "id": "4ddd0c19",
   "metadata": {},
   "source": [
    "# IS 362 Week 11 Assignment 7"
   ]
  },
  {
   "cell_type": "markdown",
   "id": "bc10952a",
   "metadata": {},
   "source": [
    "Professor Charles Pak\n",
    "\n",
    "Angela Hernandez\n",
    "\n",
    "4/4/24\n"
   ]
  },
  {
   "cell_type": "markdown",
   "id": "98ce82fb",
   "metadata": {},
   "source": [
    "Assignment – Web APIs\n",
    "⌂\n",
    "The New York Times web site provides a rich set of APIs, as described here: http://developer.nytimes.com/docs\n",
    "You’ll need to start by signing up for an API key.\n",
    "Your task is to choose one of the New York Times APIs, construct an interface in Python to read in the JSON data, and\n",
    "transform it into a pandas DataFrame"
   ]
  },
  {
   "cell_type": "code",
   "execution_count": 2,
   "id": "d3f5deaa",
   "metadata": {},
   "outputs": [],
   "source": [
    "import requests\n",
    "import pandas as pd"
   ]
  },
  {
   "cell_type": "code",
   "execution_count": 7,
   "id": "b8a90a60",
   "metadata": {},
   "outputs": [],
   "source": [
    "api_key = \"E20EzMU6OcOBPix61b6EcIMoy6FusC0W\"\n",
    "api_url = \"https://api.nytimes.com/svc/search/v2/articlesearch.json\""
   ]
  },
  {
   "cell_type": "code",
   "execution_count": 8,
   "id": "ce5fa6bb",
   "metadata": {},
   "outputs": [],
   "source": [
    "def fetch_data(api_url, api_key):\n",
    "    request_url = f\"{api_url}?api-key={api_key}\"\n",
    "    \n",
    "    response = requests.get(request_url)\n",
    "    \n",
    "    if response.status_code == 200:\n",
    "        return response.json()\n",
    "    else:\n",
    "        print(\"Failed to fetch data:\", response.status_code)\n",
    "        return None"
   ]
  },
  {
   "cell_type": "code",
   "execution_count": 9,
   "id": "67ce0a36",
   "metadata": {},
   "outputs": [],
   "source": [
    "def json_to_dataframe(json_data):\n",
    "    if json_data and 'response' in json_data and 'docs' in json_data['response']:\n",
    "        return pd.DataFrame(json_data['response']['docs'])\n",
    "    else:\n",
    "        print(\"Invalid JSON structure\")\n",
    "        return pd.DataFrame()"
   ]
  },
  {
   "cell_type": "code",
   "execution_count": 10,
   "id": "24c79849",
   "metadata": {},
   "outputs": [],
   "source": [
    "json_data = fetch_data(api_url, api_key)"
   ]
  },
  {
   "cell_type": "code",
   "execution_count": 12,
   "id": "7469ad56",
   "metadata": {},
   "outputs": [],
   "source": [
    "df = json_to_dataframe(json_data)"
   ]
  },
  {
   "cell_type": "code",
   "execution_count": 13,
   "id": "c880da07",
   "metadata": {},
   "outputs": [
    {
     "name": "stdout",
     "output_type": "stream",
     "text": [
      "                                            abstract  \\\n",
      "0  The police said the motive emerged during inte...   \n",
      "1  Responses to an Opinion essay by José Andrés a...   \n",
      "2  Most of the battles over Israel play out in De...   \n",
      "3  The defense had argued that some of the charge...   \n",
      "4  This year’s New York International Antiquarian...   \n",
      "\n",
      "                                             web_url  \\\n",
      "0  https://www.nytimes.com/2024/04/04/world/europ...   \n",
      "1  https://www.nytimes.com/2024/04/04/opinion/gaz...   \n",
      "2  https://www.nytimes.com/2024/04/04/us/politics...   \n",
      "3  https://www.nytimes.com/2024/04/04/us/georgia-...   \n",
      "4  https://www.nytimes.com/2024/04/04/books/new-y...   \n",
      "\n",
      "                                             snippet  \\\n",
      "0  The police said the motive emerged during inte...   \n",
      "1  Responses to an Opinion essay by José Andrés a...   \n",
      "2  Most of the battles over Israel play out in De...   \n",
      "3  The defense had argued that some of the charge...   \n",
      "4  This year’s New York International Antiquarian...   \n",
      "\n",
      "                                      lead_paragraph              source  \\\n",
      "0  The 12-year-old boy who opened fire at his sch...  The New York Times   \n",
      "1                                     To the Editor:  The New York Times   \n",
      "2  Battles over Israel are a defining feature of ...  The New York Times   \n",
      "3  A judge in Atlanta on Thursday rejected an eff...  The New York Times   \n",
      "4  For those who love a chance to inspect stunnin...  The New York Times   \n",
      "\n",
      "                                          multimedia  \\\n",
      "0  [{'rank': 0, 'subtype': 'xlarge', 'caption': N...   \n",
      "1  [{'rank': 0, 'subtype': 'xlarge', 'caption': N...   \n",
      "2  [{'rank': 0, 'subtype': 'xlarge', 'caption': N...   \n",
      "3  [{'rank': 0, 'subtype': 'xlarge', 'caption': N...   \n",
      "4  [{'rank': 0, 'subtype': 'xlarge', 'caption': N...   \n",
      "\n",
      "                                            headline  \\\n",
      "0  {'main': 'Finland School Shooting’s Motive Was...   \n",
      "1  {'main': 'Amid Tragedy, Anguished Pleas for Ga...   \n",
      "2  {'main': 'Republican Jewish Coalition Takes on...   \n",
      "3  {'main': 'Georgia Judge Rejects Effort to Dism...   \n",
      "4  {'main': 'Antiquarian Book Fair: From Sylvia P...   \n",
      "\n",
      "                                            keywords  \\\n",
      "0  [{'name': 'subject', 'value': 'Gun Control', '...   \n",
      "1  [{'name': 'subject', 'value': 'Israel-Gaza War...   \n",
      "2  [{'name': 'organizations', 'value': 'Republica...   \n",
      "3  [{'name': 'persons', 'value': 'Trump, Donald J...   \n",
      "4  [{'name': 'subject', 'value': 'Books and Liter...   \n",
      "\n",
      "                   pub_date document_type news_desk section_name  \\\n",
      "0  2024-04-04T17:55:09+0000       article   Foreign        World   \n",
      "1  2024-04-04T17:44:46+0000       article   Letters      Opinion   \n",
      "2  2024-04-04T17:44:43+0000       article  Politics         U.S.   \n",
      "3  2024-04-04T17:43:19+0000       article  National         U.S.   \n",
      "4  2024-04-04T17:32:59+0000       article   Weekend        Books   \n",
      "\n",
      "  subsection_name                                             byline  \\\n",
      "0          Europe  {'original': 'By Johanna Lemola and Emma Bubol...   \n",
      "1             NaN  {'original': None, 'person': [], 'organization...   \n",
      "2        Politics  {'original': 'By Katie Glueck', 'person': [{'f...   \n",
      "3             NaN  {'original': 'By Richard Fausset and Danny Hak...   \n",
      "4             NaN  {'original': 'By Jennifer Schuessler', 'person...   \n",
      "\n",
      "  type_of_material                                                _id  \\\n",
      "0             News  nyt://article/43be081f-f241-58fd-97f0-b579e996...   \n",
      "1           Letter  nyt://article/164e3d97-8a69-5ca5-9afc-6a669823...   \n",
      "2             News  nyt://article/42dfa8db-5082-56e3-9b72-e5f3fd45...   \n",
      "3             News  nyt://article/08b2ee8d-15ab-523b-b722-9944a6ff...   \n",
      "4             News  nyt://article/66c95bac-c60e-59a3-81e9-34384f61...   \n",
      "\n",
      "   word_count                                                uri  \n",
      "0         532  nyt://article/43be081f-f241-58fd-97f0-b579e996...  \n",
      "1         941  nyt://article/164e3d97-8a69-5ca5-9afc-6a669823...  \n",
      "2         339  nyt://article/42dfa8db-5082-56e3-9b72-e5f3fd45...  \n",
      "3         460  nyt://article/08b2ee8d-15ab-523b-b722-9944a6ff...  \n",
      "4         988  nyt://article/66c95bac-c60e-59a3-81e9-34384f61...  \n"
     ]
    }
   ],
   "source": [
    "print(df.head())"
   ]
  },
  {
   "cell_type": "code",
   "execution_count": null,
   "id": "1df4a92a",
   "metadata": {},
   "outputs": [],
   "source": []
  }
 ],
 "metadata": {
  "kernelspec": {
   "display_name": "Python 3 (ipykernel)",
   "language": "python",
   "name": "python3"
  },
  "language_info": {
   "codemirror_mode": {
    "name": "ipython",
    "version": 3
   },
   "file_extension": ".py",
   "mimetype": "text/x-python",
   "name": "python",
   "nbconvert_exporter": "python",
   "pygments_lexer": "ipython3",
   "version": "3.11.5"
  }
 },
 "nbformat": 4,
 "nbformat_minor": 5
}
