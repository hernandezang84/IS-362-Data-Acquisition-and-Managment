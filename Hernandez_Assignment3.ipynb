{
 "cells": [
  {
   "cell_type": "code",
   "execution_count": 1,
   "id": "bbf99e5d",
   "metadata": {},
   "outputs": [
    {
     "name": "stdout",
     "output_type": "stream",
     "text": [
      "Cumulative miles at the end of each day:\n",
      "0     55\n",
      "1    120\n",
      "2    180\n",
      "3    240\n",
      "4    300\n",
      "5    360\n",
      "6    420\n",
      "dtype: int64\n",
      "\n",
      "Total miles ridden each day:\n",
      "0    55.0\n",
      "1    65.0\n",
      "2    60.0\n",
      "3    60.0\n",
      "4    60.0\n",
      "5    60.0\n",
      "6    60.0\n",
      "dtype: float64\n"
     ]
    }
   ],
   "source": [
    "import pandas as pd\n",
    "\n",
    "odometer_readings = [55, 120, 180, 240, 300, 360, 420]\n",
    "\n",
    "cumulative_miles = pd.Series(odometer_readings)\n",
    "\n",
    "daily_miles = cumulative_miles.diff().fillna(cumulative_miles[0])\n",
    "\n",
    "print(\"Cumulative miles at the end of each day:\")\n",
    "print(cumulative_miles)\n",
    "print(\"\\nTotal miles ridden each day:\")\n",
    "print(daily_miles)"
   ]
  },
  {
   "cell_type": "code",
   "execution_count": null,
   "id": "81963ad0",
   "metadata": {},
   "outputs": [],
   "source": []
  }
 ],
 "metadata": {
  "kernelspec": {
   "display_name": "Python 3 (ipykernel)",
   "language": "python",
   "name": "python3"
  },
  "language_info": {
   "codemirror_mode": {
    "name": "ipython",
    "version": 3
   },
   "file_extension": ".py",
   "mimetype": "text/x-python",
   "name": "python",
   "nbconvert_exporter": "python",
   "pygments_lexer": "ipython3",
   "version": "3.11.5"
  }
 },
 "nbformat": 4,
 "nbformat_minor": 5
}
